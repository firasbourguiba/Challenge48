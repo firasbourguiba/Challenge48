{
 "cells": [
  {
   "cell_type": "code",
   "execution_count": 21,
   "metadata": {},
   "outputs": [
    {
     "name": "stdout",
     "output_type": "stream",
     "text": [
      "🔄 Traitement du tweet 1/2...\n",
      "💾 Sauvegarde intermédiaire effectuée !\n",
      "🔄 Traitement du tweet 2/2...\n",
      "\n",
      "✅ Analyse terminée ! Fichier sauvegardé avec les sentiments.\n"
     ]
    }
   ],
   "source": [
    "import pandas as pd\n",
    "import time\n",
    "import requests\n",
    "from mistralai import Mistral\n",
    "from mistralai.models import SDKError  # ✅ Correction ici !\n",
    "\n",
    "# ✅ Initialisation du client avec la clé API\n",
    "API_KEY = \"W028Ch2xLau3I03ivOHxSe4zUOt9BZ1d\"  # Remplace par ta vraie clé API\n",
    "AGENT_ID = \"ag:b909df0a:20250310:untitled-agent:d426e319\"  # Remplace par ton ID d'agent\n",
    "\n",
    "client = Mistral(api_key=API_KEY)\n",
    "\n",
    "# ✅ Charger les tweets\n",
    "df = pd.read_csv(r\"C:\\Users\\firas\\Documents\\ynov\\B2\\challenge 48h\\data\\cleaned_tweets.csv\")\n",
    "df = df.head(2)  # ✅ Limiter le nombre de tweets pour l'exemple\n",
    "\n",
    "# ✅ Vérifier si la colonne \"sentiment\" existe déjà\n",
    "if 'sentiment' not in df.columns:\n",
    "    df['sentiment'] = \"\"\n",
    "\n",
    "# ✅ Fonction pour analyser le sentiment avec gestion des erreurs API\n",
    "def get_sentiment(tweet):\n",
    "    content = \"Analyse du sentiment du tweet : \" + tweet\n",
    "    max_retries = 5  # ✅ Nombre maximum de tentatives en cas d'erreur\n",
    "    retries = 0\n",
    "\n",
    "    while retries < max_retries:\n",
    "        try:\n",
    "            response = client.agents.complete(\n",
    "                agent_id=AGENT_ID,\n",
    "                messages=[{\"role\": \"user\", \"content\": content}]\n",
    "            )\n",
    "            return response.choices[0].message.content.strip()\n",
    "\n",
    "        except SDKError as e:\n",
    "            if \"429\" in str(e):  # ✅ Gestion du dépassement de quota API\n",
    "                print(\"⚠️ Trop de requêtes envoyées ! Attente de 60 secondes avant de réessayer...\")\n",
    "                time.sleep(60)\n",
    "            else:\n",
    "                print(f\"🚨 Erreur API : {e}\")\n",
    "                return \"Erreur API\"\n",
    "\n",
    "        except requests.exceptions.Timeout:\n",
    "            print(\"⏳ Timeout détecté ! Nouvelle tentative dans 10 secondes...\")\n",
    "            time.sleep(10)\n",
    "\n",
    "        except requests.exceptions.RequestException as e:\n",
    "            print(f\"❌ Erreur réseau : {e}\")\n",
    "            return \"Erreur Réseau\"\n",
    "\n",
    "        except Exception as e:\n",
    "            print(f\"🔴 Erreur inconnue : {e}\")\n",
    "            return \"Erreur Inconnue\"\n",
    "\n",
    "        retries += 1\n",
    "\n",
    "    return \"Erreur après plusieurs tentatives\"\n",
    "\n",
    "# ✅ Appliquer la fonction et sauvegarder les résultats régulièrement\n",
    "for idx, row in df.iterrows():\n",
    "    if df.at[idx, 'sentiment'] == \"\":  # ✅ Ne pas réanalyser les tweets déjà traités\n",
    "        print(f\"🔄 Traitement du tweet {idx+1}/{len(df)}...\")\n",
    "        df.at[idx, 'sentiment'] = get_sentiment(row['tweet_text'])\n",
    "        time.sleep(2)  # ✅ Pause réduite pour accélérer le traitement\n",
    "\n",
    "        # ✅ Sauvegarde toutes les 10 tweets pour éviter les pertes\n",
    "        if idx % 10 == 0:\n",
    "            df.to_csv(r\"C:\\Users\\firas\\Documents\\ynov\\B2\\challenge 48h\\data\\cleaned_tweets_with_sentiment.csv\", index=False)\n",
    "            print(\"💾 Sauvegarde intermédiaire effectuée !\")\n",
    "\n",
    "# ✅ Sauvegarde finale\n",
    "df.to_csv(r\"C:\\Users\\firas\\Documents\\ynov\\B2\\challenge 48h\\data\\cleaned_tweets_with_sentiment.csv\", index=False)\n",
    "print(\"\\n✅ Analyse terminée ! Fichier sauvegardé avec les sentiments.\")\n"
   ]
  },
  {
   "cell_type": "code",
   "execution_count": 19,
   "metadata": {},
   "outputs": [],
   "source": [
    "df.to_csv(\"sentiments.csv\", index=False)"
   ]
  },
  {
   "cell_type": "code",
   "execution_count": null,
   "metadata": {},
   "outputs": [],
   "source": [
    "df.to_csv(\"sentiments.csv\", index=False)"
   ]
  },
  {
   "cell_type": "code",
   "execution_count": null,
   "metadata": {},
   "outputs": [],
   "source": []
  },
  {
   "cell_type": "code",
   "execution_count": 10,
   "metadata": {},
   "outputs": [],
   "source": [
    "df.to_csv(\"sentiments.csv\", index=False)"
   ]
  },
  {
   "cell_type": "code",
   "execution_count": 13,
   "metadata": {},
   "outputs": [
    {
     "name": "stdout",
     "output_type": "stream",
     "text": [
      "['APIEndpoint', 'Agents', 'AgentsCompletionRequest', 'AgentsCompletionRequestMessages', 'AgentsCompletionRequestMessagesTypedDict', 'AgentsCompletionRequestStop', 'AgentsCompletionRequestStopTypedDict', 'AgentsCompletionRequestToolChoice', 'AgentsCompletionRequestToolChoiceTypedDict', 'AgentsCompletionRequestTypedDict', 'AgentsCompletionStreamRequest', 'AgentsCompletionStreamRequestMessages', 'AgentsCompletionStreamRequestMessagesTypedDict', 'AgentsCompletionStreamRequestStop', 'AgentsCompletionStreamRequestStopTypedDict', 'AgentsCompletionStreamRequestToolChoice', 'AgentsCompletionStreamRequestToolChoiceTypedDict', 'AgentsCompletionStreamRequestTypedDict', 'Any', 'ArchiveFTModelOut', 'ArchiveFTModelOutObject', 'ArchiveFTModelOutTypedDict', 'Arguments', 'ArgumentsTypedDict', 'AssistantMessage', 'AssistantMessageContent', 'AssistantMessageContentTypedDict', 'AssistantMessageRole', 'AssistantMessageTypedDict', 'AsyncHttpClient', 'BaseModelCard', 'BaseModelCardTypedDict', 'BaseSDK', 'Batch', 'BatchError', 'BatchErrorTypedDict', 'BatchJobIn', 'BatchJobInTypedDict', 'BatchJobOut', 'BatchJobOutObject', 'BatchJobOutTypedDict', 'BatchJobStatus', 'BatchJobsOut', 'BatchJobsOutObject', 'BatchJobsOutTypedDict', 'Callable', 'Chat', 'ChatCompletionChoice', 'ChatCompletionChoiceTypedDict', 'ChatCompletionRequest', 'ChatCompletionRequestToolChoice', 'ChatCompletionRequestToolChoiceTypedDict', 'ChatCompletionRequestTypedDict', 'ChatCompletionResponse', 'ChatCompletionResponseTypedDict', 'ChatCompletionStreamRequest', 'ChatCompletionStreamRequestMessages', 'ChatCompletionStreamRequestMessagesTypedDict', 'ChatCompletionStreamRequestStop', 'ChatCompletionStreamRequestStopTypedDict', 'ChatCompletionStreamRequestToolChoice', 'ChatCompletionStreamRequestToolChoiceTypedDict', 'ChatCompletionStreamRequestTypedDict', 'ChatModerationRequest', 'ChatModerationRequestInputs', 'ChatModerationRequestInputsTypedDict', 'ChatModerationRequestTypedDict', 'CheckpointOut', 'CheckpointOutTypedDict', 'ClassificationObject', 'ClassificationObjectTypedDict', 'ClassificationRequest', 'ClassificationRequestInputs', 'ClassificationRequestInputsTypedDict', 'ClassificationRequestTypedDict', 'ClassificationResponse', 'ClassificationResponseTypedDict', 'Classifiers', 'ClientOwner', 'CompletionChunk', 'CompletionChunkTypedDict', 'CompletionEvent', 'CompletionEventTypedDict', 'CompletionResponseStreamChoice', 'CompletionResponseStreamChoiceFinishReason', 'CompletionResponseStreamChoiceTypedDict', 'Content', 'ContentChunk', 'ContentChunkTypedDict', 'ContentTypedDict', 'Data', 'DataTypedDict', 'DeleteFileOut', 'DeleteFileOutTypedDict', 'DeleteModelOut', 'DeleteModelOutTypedDict', 'DeleteModelV1ModelsModelIDDeleteRequest', 'DeleteModelV1ModelsModelIDDeleteRequestTypedDict', 'DeltaMessage', 'DeltaMessageTypedDict', 'DetailedJobOut', 'DetailedJobOutIntegrations', 'DetailedJobOutIntegrationsTypedDict', 'DetailedJobOutObject', 'DetailedJobOutRepositories', 'DetailedJobOutRepositoriesTypedDict', 'DetailedJobOutStatus', 'DetailedJobOutTypedDict', 'Dict', 'Document', 'DocumentTypedDict', 'DocumentURLChunk', 'DocumentURLChunkTypedDict', 'EmbeddingRequest', 'EmbeddingRequestTypedDict', 'EmbeddingResponse', 'EmbeddingResponseData', 'EmbeddingResponseDataTypedDict', 'EmbeddingResponseTypedDict', 'Embeddings', 'EventOut', 'EventOutTypedDict', 'FIMCompletionRequest', 'FIMCompletionRequestStop', 'FIMCompletionRequestStopTypedDict', 'FIMCompletionRequestTypedDict', 'FIMCompletionResponse', 'FIMCompletionResponseTypedDict', 'FIMCompletionStreamRequest', 'FIMCompletionStreamRequestStop', 'FIMCompletionStreamRequestStopTypedDict', 'FIMCompletionStreamRequestTypedDict', 'FTModelCapabilitiesOut', 'FTModelCapabilitiesOutTypedDict', 'FTModelCard', 'FTModelCardType', 'FTModelCardTypedDict', 'FTModelOut', 'FTModelOutObject', 'FTModelOutTypedDict', 'Field', 'File', 'FilePurpose', 'FileSchema', 'FileSchemaTypedDict', 'FileSignedURL', 'FileSignedURLTypedDict', 'FileTypedDict', 'Files', 'FilesAPIRoutesDeleteFileRequest', 'FilesAPIRoutesDeleteFileRequestTypedDict', 'FilesAPIRoutesDownloadFileRequest', 'FilesAPIRoutesDownloadFileRequestTypedDict', 'FilesAPIRoutesGetSignedURLRequest', 'FilesAPIRoutesGetSignedURLRequestTypedDict', 'FilesAPIRoutesListFilesRequest', 'FilesAPIRoutesListFilesRequestTypedDict', 'FilesAPIRoutesRetrieveFileRequest', 'FilesAPIRoutesRetrieveFileRequestTypedDict', 'FilesAPIRoutesUploadFileMultiPartBodyParams', 'FilesAPIRoutesUploadFileMultiPartBodyParamsTypedDict', 'Fim', 'FineTuning', 'FinishReason', 'Function', 'FunctionCall', 'FunctionCallTypedDict', 'FunctionName', 'FunctionNameTypedDict', 'FunctionTypedDict', 'GithubRepositoryIn', 'GithubRepositoryInType', 'GithubRepositoryInTypedDict', 'GithubRepositoryOut', 'GithubRepositoryOutType', 'GithubRepositoryOutTypedDict', 'HTTPValidationError', 'HTTPValidationErrorData', 'HttpClient', 'ImageURL', 'ImageURLChunk', 'ImageURLChunkImageURL', 'ImageURLChunkImageURLTypedDict', 'ImageURLChunkType', 'ImageURLChunkTypedDict', 'ImageURLTypedDict', 'Inputs', 'InputsTypedDict', 'Integrations', 'IntegrationsTypedDict', 'JSONSchema', 'JSONSchemaTypedDict', 'JobIn', 'JobInIntegrations', 'JobInIntegrationsTypedDict', 'JobInRepositories', 'JobInRepositoriesTypedDict', 'JobInTypedDict', 'JobMetadataOut', 'JobMetadataOutTypedDict', 'JobOut', 'JobOutTypedDict', 'JobsAPIRoutesBatchCancelBatchJobRequest', 'JobsAPIRoutesBatchCancelBatchJobRequestTypedDict', 'JobsAPIRoutesBatchGetBatchJobRequest', 'JobsAPIRoutesBatchGetBatchJobRequestTypedDict', 'JobsAPIRoutesBatchGetBatchJobsRequest', 'JobsAPIRoutesBatchGetBatchJobsRequestTypedDict', 'JobsAPIRoutesFineTuningArchiveFineTunedModelRequest', 'JobsAPIRoutesFineTuningArchiveFineTunedModelRequestTypedDict', 'JobsAPIRoutesFineTuningCancelFineTuningJobRequest', 'JobsAPIRoutesFineTuningCancelFineTuningJobRequestTypedDict', 'JobsAPIRoutesFineTuningCreateFineTuningJobResponse', 'JobsAPIRoutesFineTuningCreateFineTuningJobResponseTypedDict', 'JobsAPIRoutesFineTuningGetFineTuningJobRequest', 'JobsAPIRoutesFineTuningGetFineTuningJobRequestTypedDict', 'JobsAPIRoutesFineTuningGetFineTuningJobsRequest', 'JobsAPIRoutesFineTuningGetFineTuningJobsRequestTypedDict', 'JobsAPIRoutesFineTuningStartFineTuningJobRequest', 'JobsAPIRoutesFineTuningStartFineTuningJobRequestTypedDict', 'JobsAPIRoutesFineTuningUnarchiveFineTunedModelRequest', 'JobsAPIRoutesFineTuningUnarchiveFineTunedModelRequestTypedDict', 'JobsAPIRoutesFineTuningUpdateFineTunedModelRequest', 'JobsAPIRoutesFineTuningUpdateFineTunedModelRequestTypedDict', 'JobsOut', 'JobsOutObject', 'JobsOutTypedDict', 'LegacyJobMetadataOut', 'LegacyJobMetadataOutObject', 'LegacyJobMetadataOutTypedDict', 'ListFilesOut', 'ListFilesOutTypedDict', 'Loc', 'LocTypedDict', 'Logger', 'Messages', 'MessagesTypedDict', 'MetricOut', 'MetricOutTypedDict', 'Mistral', 'ModelCapabilities', 'ModelCapabilitiesTypedDict', 'ModelList', 'ModelListTypedDict', 'Models', 'OCRImageObject', 'OCRImageObjectTypedDict', 'OCRPageDimensions', 'OCRPageDimensionsTypedDict', 'OCRPageObject', 'OCRPageObjectTypedDict', 'OCRRequest', 'OCRRequestTypedDict', 'OCRResponse', 'OCRResponseTypedDict', 'OCRUsageInfo', 'OCRUsageInfoTypedDict', 'OPENAPI_DOC_VERSION', 'Object', 'Ocr', 'One', 'OneTypedDict', 'Optional', 'OptionalNullable', 'Prediction', 'PredictionTypedDict', 'QueryParamStatus', 'ReferenceChunk', 'ReferenceChunkType', 'ReferenceChunkTypedDict', 'Repositories', 'RepositoriesTypedDict', 'ResponseFormat', 'ResponseFormatTypedDict', 'ResponseFormats', 'RetrieveFileOut', 'RetrieveFileOutTypedDict', 'RetrieveModelV1ModelsModelIDGetRequest', 'RetrieveModelV1ModelsModelIDGetRequestTypedDict', 'RetrieveModelV1ModelsModelIDGetResponseRetrieveModelV1ModelsModelIDGet', 'RetrieveModelV1ModelsModelIDGetResponseRetrieveModelV1ModelsModelIDGetTypedDict', 'RetryConfig', 'Role', 'SDKConfiguration', 'SDKError', 'SDKHooks', 'SERVERS', 'SERVER_EU', 'SPEAKEASY_GENERATOR_VERSION', 'SampleType', 'Security', 'SecurityTypedDict', 'Source', 'Status', 'Stop', 'StopTypedDict', 'SystemMessage', 'SystemMessageContent', 'SystemMessageContentTypedDict', 'SystemMessageTypedDict', 'TextChunk', 'TextChunkType', 'TextChunkTypedDict', 'Tool', 'ToolCall', 'ToolCallTypedDict', 'ToolChoice', 'ToolChoiceEnum', 'ToolChoiceTypedDict', 'ToolMessage', 'ToolMessageContent', 'ToolMessageContentTypedDict', 'ToolMessageRole', 'ToolMessageTypedDict', 'ToolTypedDict', 'ToolTypes', 'TrainingFile', 'TrainingFileTypedDict', 'TrainingParameters', 'TrainingParametersIn', 'TrainingParametersInTypedDict', 'TrainingParametersTypedDict', 'Tuple', 'Two', 'TwoTypedDict', 'Type', 'UNSET', 'USER_AGENT', 'UnarchiveFTModelOut', 'UnarchiveFTModelOutObject', 'UnarchiveFTModelOutTypedDict', 'Union', 'UpdateFTModelIn', 'UpdateFTModelInTypedDict', 'UploadFileOut', 'UploadFileOutTypedDict', 'UsageInfo', 'UsageInfoTypedDict', 'UserMessage', 'UserMessageContent', 'UserMessageContentTypedDict', 'UserMessageRole', 'UserMessageTypedDict', 'VERSION', 'ValidationError', 'ValidationErrorTypedDict', 'WandbIntegration', 'WandbIntegrationOut', 'WandbIntegrationOutType', 'WandbIntegrationOutTypedDict', 'WandbIntegrationType', 'WandbIntegrationTypedDict', '__annotations__', '__builtins__', '__cached__', '__doc__', '__file__', '__gen_version__', '__loader__', '__name__', '__openapi_doc_version__', '__package__', '__path__', '__spec__', '__title__', '__user_agent__', '__version__', '_hooks', '_version', 'agents', 'basesdk', 'batch', 'cast', 'chat', 'classifiers', 'close_clients', 'dataclass', 'embeddings', 'extra', 'files', 'fim', 'fine_tuning', 'get_default_logger', 'httpclient', 'httpx', 'jobs', 'mistral_jobs', 'models', 'models_', 'ocr', 'remove_suffix', 'sdk', 'sdkconfiguration', 'types', 'utils', 'weakref']\n"
     ]
    }
   ],
   "source": [
    "import mistralai\n",
    "print(dir(mistralai))"
   ]
  },
  {
   "cell_type": "code",
   "execution_count": 33,
   "metadata": {},
   "outputs": [
    {
     "name": "stdout",
     "output_type": "stream",
     "text": [
      "Sentiment analysé :  {\n",
      "  \"inconfort\": 0,\n",
      "  \"sentiment\": positif,\n",
      "  \"urgence\": False\n",
      "}\n"
     ]
    }
   ],
   "source": [
    "from mistralai import Mistral\n",
    "\n",
    "# Initialisation du client avec la clé API\n",
    "client = Mistral(api_key=\"QU9joTThl5C9C8Waz8dgk2Mu9mFT7TaZ\")\n",
    "\n",
    "# Le contenu du tweet que tu veux analyser\n",
    "content = \"C'est une super journée, je suis tellement content !\"\n",
    "\n",
    "# Ajout d'un préfixe pour spécifier l'analyse de sentiment\n",
    "content = \"Analyse du sentiment du tweet : \" + content\n",
    "\n",
    "# Utilisation de l'agent pour obtenir la réponse\n",
    "response = client.agents.complete(\n",
    "    agent_id=\"ag:f685da10:20250310:untitled-agent:5d68c6b9\",  # Remplace par ton ID d'agent\n",
    "    messages=[{\n",
    "        \"role\": \"user\",\n",
    "        \"content\": content\n",
    "    }]\n",
    ")\n",
    "\n",
    "# Récupérer et afficher la réponse générée par l'agent\n",
    "response_text = response.choices[0].message.content.strip()\n",
    "print(\"Sentiment analysé : \", response_text)\n"
   ]
  },
  {
   "cell_type": "code",
   "execution_count": 45,
   "metadata": {},
   "outputs": [
    {
     "data": {
      "text/plain": [
       "Index(['user_id', 'screen_name', 'name', 'date', 'tweet_text', 'hour',\n",
       "       'tweet_length', 'criticite'],\n",
       "      dtype='object')"
      ]
     },
     "execution_count": 45,
     "metadata": {},
     "output_type": "execute_result"
    }
   ],
   "source": [
    "import pandas as pd\n",
    "\n",
    "#data = pd.read_csv(r\"C:\\Users\\Harrison\\Challenge48\\data\\cleaned_tweets_with_sentiment.csv\")\n",
    "df = pd.read_csv(r\"C:\\Users\\Harrison\\Challenge48\\data\\cleaned_tweets.csv\")\n",
    "\n",
    "df.columns"
   ]
  },
  {
   "cell_type": "code",
   "execution_count": null,
   "metadata": {},
   "outputs": [
    {
     "ename": "SDKError",
     "evalue": "API error occurred: Status 429\n{\"message\":\"Requests rate limit exceeded\"}",
     "output_type": "error",
     "traceback": [
      "\u001b[1;31m---------------------------------------------------------------------------\u001b[0m",
      "\u001b[1;31mSDKError\u001b[0m                                  Traceback (most recent call last)",
      "Cell \u001b[1;32mIn[21], line 27\u001b[0m\n\u001b[0;32m     24\u001b[0m     \u001b[38;5;28;01mreturn\u001b[39;00m response\u001b[38;5;241m.\u001b[39mchoices[\u001b[38;5;241m0\u001b[39m]\u001b[38;5;241m.\u001b[39mmessage\u001b[38;5;241m.\u001b[39mcontent\u001b[38;5;241m.\u001b[39mstrip()\n\u001b[0;32m     26\u001b[0m \u001b[38;5;66;03m# Appliquer la fonction à chaque tweet de la colonne\u001b[39;00m\n\u001b[1;32m---> 27\u001b[0m df[\u001b[38;5;124m'\u001b[39m\u001b[38;5;124msentiment\u001b[39m\u001b[38;5;124m'\u001b[39m] \u001b[38;5;241m=\u001b[39m \u001b[43mdf\u001b[49m\u001b[43m[\u001b[49m\u001b[38;5;124;43m'\u001b[39;49m\u001b[38;5;124;43mtweet_text\u001b[39;49m\u001b[38;5;124;43m'\u001b[39;49m\u001b[43m]\u001b[49m\u001b[38;5;241;43m.\u001b[39;49m\u001b[43mapply\u001b[49m\u001b[43m(\u001b[49m\u001b[43manalyze_sentiment\u001b[49m\u001b[43m)\u001b[49m\n\u001b[0;32m     29\u001b[0m \u001b[38;5;66;03m# Afficher les résultats\u001b[39;00m\n\u001b[0;32m     30\u001b[0m \u001b[38;5;28mprint\u001b[39m(df[[\u001b[38;5;124m'\u001b[39m\u001b[38;5;124mtweet_text\u001b[39m\u001b[38;5;124m'\u001b[39m, \u001b[38;5;124m'\u001b[39m\u001b[38;5;124msentiment\u001b[39m\u001b[38;5;124m'\u001b[39m]])\n",
      "File \u001b[1;32mc:\\Users\\Harrison\\anaconda3\\Lib\\site-packages\\pandas\\core\\series.py:4764\u001b[0m, in \u001b[0;36mSeries.apply\u001b[1;34m(self, func, convert_dtype, args, by_row, **kwargs)\u001b[0m\n\u001b[0;32m   4629\u001b[0m \u001b[38;5;28;01mdef\u001b[39;00m \u001b[38;5;21mapply\u001b[39m(\n\u001b[0;32m   4630\u001b[0m     \u001b[38;5;28mself\u001b[39m,\n\u001b[0;32m   4631\u001b[0m     func: AggFuncType,\n\u001b[1;32m   (...)\u001b[0m\n\u001b[0;32m   4636\u001b[0m     \u001b[38;5;241m*\u001b[39m\u001b[38;5;241m*\u001b[39mkwargs,\n\u001b[0;32m   4637\u001b[0m ) \u001b[38;5;241m-\u001b[39m\u001b[38;5;241m>\u001b[39m DataFrame \u001b[38;5;241m|\u001b[39m Series:\n\u001b[0;32m   4638\u001b[0m \u001b[38;5;250m    \u001b[39m\u001b[38;5;124;03m\"\"\"\u001b[39;00m\n\u001b[0;32m   4639\u001b[0m \u001b[38;5;124;03m    Invoke function on values of Series.\u001b[39;00m\n\u001b[0;32m   4640\u001b[0m \n\u001b[1;32m   (...)\u001b[0m\n\u001b[0;32m   4755\u001b[0m \u001b[38;5;124;03m    dtype: float64\u001b[39;00m\n\u001b[0;32m   4756\u001b[0m \u001b[38;5;124;03m    \"\"\"\u001b[39;00m\n\u001b[0;32m   4757\u001b[0m     \u001b[38;5;28;01mreturn\u001b[39;00m \u001b[43mSeriesApply\u001b[49m\u001b[43m(\u001b[49m\n\u001b[0;32m   4758\u001b[0m \u001b[43m        \u001b[49m\u001b[38;5;28;43mself\u001b[39;49m\u001b[43m,\u001b[49m\n\u001b[0;32m   4759\u001b[0m \u001b[43m        \u001b[49m\u001b[43mfunc\u001b[49m\u001b[43m,\u001b[49m\n\u001b[0;32m   4760\u001b[0m \u001b[43m        \u001b[49m\u001b[43mconvert_dtype\u001b[49m\u001b[38;5;241;43m=\u001b[39;49m\u001b[43mconvert_dtype\u001b[49m\u001b[43m,\u001b[49m\n\u001b[0;32m   4761\u001b[0m \u001b[43m        \u001b[49m\u001b[43mby_row\u001b[49m\u001b[38;5;241;43m=\u001b[39;49m\u001b[43mby_row\u001b[49m\u001b[43m,\u001b[49m\n\u001b[0;32m   4762\u001b[0m \u001b[43m        \u001b[49m\u001b[43margs\u001b[49m\u001b[38;5;241;43m=\u001b[39;49m\u001b[43margs\u001b[49m\u001b[43m,\u001b[49m\n\u001b[0;32m   4763\u001b[0m \u001b[43m        \u001b[49m\u001b[43mkwargs\u001b[49m\u001b[38;5;241;43m=\u001b[39;49m\u001b[43mkwargs\u001b[49m\u001b[43m,\u001b[49m\n\u001b[1;32m-> 4764\u001b[0m \u001b[43m    \u001b[49m\u001b[43m)\u001b[49m\u001b[38;5;241;43m.\u001b[39;49m\u001b[43mapply\u001b[49m\u001b[43m(\u001b[49m\u001b[43m)\u001b[49m\n",
      "File \u001b[1;32mc:\\Users\\Harrison\\anaconda3\\Lib\\site-packages\\pandas\\core\\apply.py:1209\u001b[0m, in \u001b[0;36mSeriesApply.apply\u001b[1;34m(self)\u001b[0m\n\u001b[0;32m   1206\u001b[0m     \u001b[38;5;28;01mreturn\u001b[39;00m \u001b[38;5;28mself\u001b[39m\u001b[38;5;241m.\u001b[39mapply_compat()\n\u001b[0;32m   1208\u001b[0m \u001b[38;5;66;03m# self.func is Callable\u001b[39;00m\n\u001b[1;32m-> 1209\u001b[0m \u001b[38;5;28;01mreturn\u001b[39;00m \u001b[38;5;28;43mself\u001b[39;49m\u001b[38;5;241;43m.\u001b[39;49m\u001b[43mapply_standard\u001b[49m\u001b[43m(\u001b[49m\u001b[43m)\u001b[49m\n",
      "File \u001b[1;32mc:\\Users\\Harrison\\anaconda3\\Lib\\site-packages\\pandas\\core\\apply.py:1289\u001b[0m, in \u001b[0;36mSeriesApply.apply_standard\u001b[1;34m(self)\u001b[0m\n\u001b[0;32m   1283\u001b[0m \u001b[38;5;66;03m# row-wise access\u001b[39;00m\n\u001b[0;32m   1284\u001b[0m \u001b[38;5;66;03m# apply doesn't have a `na_action` keyword and for backward compat reasons\u001b[39;00m\n\u001b[0;32m   1285\u001b[0m \u001b[38;5;66;03m# we need to give `na_action=\"ignore\"` for categorical data.\u001b[39;00m\n\u001b[0;32m   1286\u001b[0m \u001b[38;5;66;03m# TODO: remove the `na_action=\"ignore\"` when that default has been changed in\u001b[39;00m\n\u001b[0;32m   1287\u001b[0m \u001b[38;5;66;03m#  Categorical (GH51645).\u001b[39;00m\n\u001b[0;32m   1288\u001b[0m action \u001b[38;5;241m=\u001b[39m \u001b[38;5;124m\"\u001b[39m\u001b[38;5;124mignore\u001b[39m\u001b[38;5;124m\"\u001b[39m \u001b[38;5;28;01mif\u001b[39;00m \u001b[38;5;28misinstance\u001b[39m(obj\u001b[38;5;241m.\u001b[39mdtype, CategoricalDtype) \u001b[38;5;28;01melse\u001b[39;00m \u001b[38;5;28;01mNone\u001b[39;00m\n\u001b[1;32m-> 1289\u001b[0m mapped \u001b[38;5;241m=\u001b[39m \u001b[43mobj\u001b[49m\u001b[38;5;241;43m.\u001b[39;49m\u001b[43m_map_values\u001b[49m\u001b[43m(\u001b[49m\n\u001b[0;32m   1290\u001b[0m \u001b[43m    \u001b[49m\u001b[43mmapper\u001b[49m\u001b[38;5;241;43m=\u001b[39;49m\u001b[43mcurried\u001b[49m\u001b[43m,\u001b[49m\u001b[43m \u001b[49m\u001b[43mna_action\u001b[49m\u001b[38;5;241;43m=\u001b[39;49m\u001b[43maction\u001b[49m\u001b[43m,\u001b[49m\u001b[43m \u001b[49m\u001b[43mconvert\u001b[49m\u001b[38;5;241;43m=\u001b[39;49m\u001b[38;5;28;43mself\u001b[39;49m\u001b[38;5;241;43m.\u001b[39;49m\u001b[43mconvert_dtype\u001b[49m\n\u001b[0;32m   1291\u001b[0m \u001b[43m\u001b[49m\u001b[43m)\u001b[49m\n\u001b[0;32m   1293\u001b[0m \u001b[38;5;28;01mif\u001b[39;00m \u001b[38;5;28mlen\u001b[39m(mapped) \u001b[38;5;129;01mand\u001b[39;00m \u001b[38;5;28misinstance\u001b[39m(mapped[\u001b[38;5;241m0\u001b[39m], ABCSeries):\n\u001b[0;32m   1294\u001b[0m     \u001b[38;5;66;03m# GH#43986 Need to do list(mapped) in order to get treated as nested\u001b[39;00m\n\u001b[0;32m   1295\u001b[0m     \u001b[38;5;66;03m#  See also GH#25959 regarding EA support\u001b[39;00m\n\u001b[0;32m   1296\u001b[0m     \u001b[38;5;28;01mreturn\u001b[39;00m obj\u001b[38;5;241m.\u001b[39m_constructor_expanddim(\u001b[38;5;28mlist\u001b[39m(mapped), index\u001b[38;5;241m=\u001b[39mobj\u001b[38;5;241m.\u001b[39mindex)\n",
      "File \u001b[1;32mc:\\Users\\Harrison\\anaconda3\\Lib\\site-packages\\pandas\\core\\base.py:921\u001b[0m, in \u001b[0;36mIndexOpsMixin._map_values\u001b[1;34m(self, mapper, na_action, convert)\u001b[0m\n\u001b[0;32m    918\u001b[0m \u001b[38;5;28;01mif\u001b[39;00m \u001b[38;5;28misinstance\u001b[39m(arr, ExtensionArray):\n\u001b[0;32m    919\u001b[0m     \u001b[38;5;28;01mreturn\u001b[39;00m arr\u001b[38;5;241m.\u001b[39mmap(mapper, na_action\u001b[38;5;241m=\u001b[39mna_action)\n\u001b[1;32m--> 921\u001b[0m \u001b[38;5;28;01mreturn\u001b[39;00m \u001b[43malgorithms\u001b[49m\u001b[38;5;241;43m.\u001b[39;49m\u001b[43mmap_array\u001b[49m\u001b[43m(\u001b[49m\u001b[43marr\u001b[49m\u001b[43m,\u001b[49m\u001b[43m \u001b[49m\u001b[43mmapper\u001b[49m\u001b[43m,\u001b[49m\u001b[43m \u001b[49m\u001b[43mna_action\u001b[49m\u001b[38;5;241;43m=\u001b[39;49m\u001b[43mna_action\u001b[49m\u001b[43m,\u001b[49m\u001b[43m \u001b[49m\u001b[43mconvert\u001b[49m\u001b[38;5;241;43m=\u001b[39;49m\u001b[43mconvert\u001b[49m\u001b[43m)\u001b[49m\n",
      "File \u001b[1;32mc:\\Users\\Harrison\\anaconda3\\Lib\\site-packages\\pandas\\core\\algorithms.py:1814\u001b[0m, in \u001b[0;36mmap_array\u001b[1;34m(arr, mapper, na_action, convert)\u001b[0m\n\u001b[0;32m   1812\u001b[0m values \u001b[38;5;241m=\u001b[39m arr\u001b[38;5;241m.\u001b[39mastype(\u001b[38;5;28mobject\u001b[39m, copy\u001b[38;5;241m=\u001b[39m\u001b[38;5;28;01mFalse\u001b[39;00m)\n\u001b[0;32m   1813\u001b[0m \u001b[38;5;28;01mif\u001b[39;00m na_action \u001b[38;5;129;01mis\u001b[39;00m \u001b[38;5;28;01mNone\u001b[39;00m:\n\u001b[1;32m-> 1814\u001b[0m     \u001b[38;5;28;01mreturn\u001b[39;00m \u001b[43mlib\u001b[49m\u001b[38;5;241;43m.\u001b[39;49m\u001b[43mmap_infer\u001b[49m\u001b[43m(\u001b[49m\u001b[43mvalues\u001b[49m\u001b[43m,\u001b[49m\u001b[43m \u001b[49m\u001b[43mmapper\u001b[49m\u001b[43m,\u001b[49m\u001b[43m \u001b[49m\u001b[43mconvert\u001b[49m\u001b[38;5;241;43m=\u001b[39;49m\u001b[43mconvert\u001b[49m\u001b[43m)\u001b[49m\n\u001b[0;32m   1815\u001b[0m \u001b[38;5;28;01melse\u001b[39;00m:\n\u001b[0;32m   1816\u001b[0m     \u001b[38;5;28;01mreturn\u001b[39;00m lib\u001b[38;5;241m.\u001b[39mmap_infer_mask(\n\u001b[0;32m   1817\u001b[0m         values, mapper, mask\u001b[38;5;241m=\u001b[39misna(values)\u001b[38;5;241m.\u001b[39mview(np\u001b[38;5;241m.\u001b[39muint8), convert\u001b[38;5;241m=\u001b[39mconvert\n\u001b[0;32m   1818\u001b[0m     )\n",
      "File \u001b[1;32mlib.pyx:2926\u001b[0m, in \u001b[0;36mpandas._libs.lib.map_infer\u001b[1;34m()\u001b[0m\n",
      "Cell \u001b[1;32mIn[21], line 15\u001b[0m, in \u001b[0;36manalyze_sentiment\u001b[1;34m(tweet)\u001b[0m\n\u001b[0;32m     12\u001b[0m content \u001b[38;5;241m=\u001b[39m \u001b[38;5;124m\"\u001b[39m\u001b[38;5;124mAnalyse du sentiment du tweet : \u001b[39m\u001b[38;5;124m\"\u001b[39m \u001b[38;5;241m+\u001b[39m tweet\n\u001b[0;32m     14\u001b[0m \u001b[38;5;66;03m# Utilisation de l'agent pour obtenir la réponse\u001b[39;00m\n\u001b[1;32m---> 15\u001b[0m response \u001b[38;5;241m=\u001b[39m \u001b[43mclient\u001b[49m\u001b[38;5;241;43m.\u001b[39;49m\u001b[43magents\u001b[49m\u001b[38;5;241;43m.\u001b[39;49m\u001b[43mcomplete\u001b[49m\u001b[43m(\u001b[49m\n\u001b[0;32m     16\u001b[0m \u001b[43m    \u001b[49m\u001b[43magent_id\u001b[49m\u001b[38;5;241;43m=\u001b[39;49m\u001b[38;5;124;43m\"\u001b[39;49m\u001b[38;5;124;43mag:f685da10:20250310:untitled-agent:5d68c6b9\u001b[39;49m\u001b[38;5;124;43m\"\u001b[39;49m\u001b[43m,\u001b[49m\u001b[43m  \u001b[49m\u001b[38;5;66;43;03m# Remplace par ton ID d'agent\u001b[39;49;00m\n\u001b[0;32m     17\u001b[0m \u001b[43m    \u001b[49m\u001b[43mmessages\u001b[49m\u001b[38;5;241;43m=\u001b[39;49m\u001b[43m[\u001b[49m\u001b[43m{\u001b[49m\n\u001b[0;32m     18\u001b[0m \u001b[43m        \u001b[49m\u001b[38;5;124;43m\"\u001b[39;49m\u001b[38;5;124;43mrole\u001b[39;49m\u001b[38;5;124;43m\"\u001b[39;49m\u001b[43m:\u001b[49m\u001b[43m \u001b[49m\u001b[38;5;124;43m\"\u001b[39;49m\u001b[38;5;124;43muser\u001b[39;49m\u001b[38;5;124;43m\"\u001b[39;49m\u001b[43m,\u001b[49m\n\u001b[0;32m     19\u001b[0m \u001b[43m        \u001b[49m\u001b[38;5;124;43m\"\u001b[39;49m\u001b[38;5;124;43mcontent\u001b[39;49m\u001b[38;5;124;43m\"\u001b[39;49m\u001b[43m:\u001b[49m\u001b[43m \u001b[49m\u001b[43mcontent\u001b[49m\n\u001b[0;32m     20\u001b[0m \u001b[43m    \u001b[49m\u001b[43m}\u001b[49m\u001b[43m]\u001b[49m\n\u001b[0;32m     21\u001b[0m \u001b[43m\u001b[49m\u001b[43m)\u001b[49m\n\u001b[0;32m     23\u001b[0m \u001b[38;5;66;03m# Récupérer et retourner la réponse générée par l'agent\u001b[39;00m\n\u001b[0;32m     24\u001b[0m \u001b[38;5;28;01mreturn\u001b[39;00m response\u001b[38;5;241m.\u001b[39mchoices[\u001b[38;5;241m0\u001b[39m]\u001b[38;5;241m.\u001b[39mmessage\u001b[38;5;241m.\u001b[39mcontent\u001b[38;5;241m.\u001b[39mstrip()\n",
      "File \u001b[1;32mc:\\Users\\Harrison\\anaconda3\\Lib\\site-packages\\mistralai\\agents.py:154\u001b[0m, in \u001b[0;36mAgents.complete\u001b[1;34m(self, messages, agent_id, max_tokens, stream, stop, random_seed, response_format, tools, tool_choice, presence_penalty, frequency_penalty, n, prediction, retries, server_url, timeout_ms, http_headers)\u001b[0m\n\u001b[0;32m    152\u001b[0m \u001b[38;5;28;01mif\u001b[39;00m utils\u001b[38;5;241m.\u001b[39mmatch_response(http_res, \u001b[38;5;124m\"\u001b[39m\u001b[38;5;124m4XX\u001b[39m\u001b[38;5;124m\"\u001b[39m, \u001b[38;5;124m\"\u001b[39m\u001b[38;5;124m*\u001b[39m\u001b[38;5;124m\"\u001b[39m):\n\u001b[0;32m    153\u001b[0m     http_res_text \u001b[38;5;241m=\u001b[39m utils\u001b[38;5;241m.\u001b[39mstream_to_text(http_res)\n\u001b[1;32m--> 154\u001b[0m     \u001b[38;5;28;01mraise\u001b[39;00m models\u001b[38;5;241m.\u001b[39mSDKError(\n\u001b[0;32m    155\u001b[0m         \u001b[38;5;124m\"\u001b[39m\u001b[38;5;124mAPI error occurred\u001b[39m\u001b[38;5;124m\"\u001b[39m, http_res\u001b[38;5;241m.\u001b[39mstatus_code, http_res_text, http_res\n\u001b[0;32m    156\u001b[0m     )\n\u001b[0;32m    157\u001b[0m \u001b[38;5;28;01mif\u001b[39;00m utils\u001b[38;5;241m.\u001b[39mmatch_response(http_res, \u001b[38;5;124m\"\u001b[39m\u001b[38;5;124m5XX\u001b[39m\u001b[38;5;124m\"\u001b[39m, \u001b[38;5;124m\"\u001b[39m\u001b[38;5;124m*\u001b[39m\u001b[38;5;124m\"\u001b[39m):\n\u001b[0;32m    158\u001b[0m     http_res_text \u001b[38;5;241m=\u001b[39m utils\u001b[38;5;241m.\u001b[39mstream_to_text(http_res)\n",
      "\u001b[1;31mSDKError\u001b[0m: API error occurred: Status 429\n{\"message\":\"Requests rate limit exceeded\"}"
     ]
    }
   ],
   "source": [
    "import pandas as pd\n",
    "import requests\n",
    "\n",
    "# Charger le DataFrame\n",
    "df = pd.read_csv(r\"chemin/vers/ton_fichier.csv\")\n",
    "\n",
    "# Filtrer les tweets négatifs\n",
    "df_negatifs = df[df['sentiments'] == 'négatif'].copy()\n",
    "\n",
    "# Configuration de l'API Mistral\n",
    "API_KEY = \"QU9joTThl5C9C8Waz8dgk2Mu9mFT7TaZ\"\n",
    "HEADERS = {\n",
    "    \"Authorization\": f\"Bearer {API_KEY}\",\n",
    "    \"User-Agent\": \"ag:f685da10:20250310:untitled-agent:5d68c6b9\"\n",
    "}\n",
    "\n",
    "# Fonction pour interroger le modèle Mistral\n",
    "def get_intent(tweet):\n",
    "    prompt = f\"\"\"\n",
    "    Analyse ce tweet et identifie la cause principale du sentiment négatif. \n",
    "    Précise si la négativité est due à un retard de livraison, un produit défectueux, \n",
    "    un mauvais service client ou une autre raison. Si tu n'es pas sûr, indique \"autre\".\n",
    "    Réponds uniquement par la raison identifiée.\n",
    "\n",
    "    Tweet : \"{tweet}\"\n",
    "    \"\"\"\n",
    "\n",
    "    response = requests.post(\"https://console.mistral.ai/home \", json={\"prompt\": prompt}, headers=HEADERS)\n",
    "    if response.status_code == 200:\n",
    "        return response.json().get(\"result\", \"autre\")\n",
    "    else:\n",
    "        return \"erreur_api\"\n",
    "\n",
    "# Appliquer la fonction sur les tweets négatifs\n",
    "df_negatifs['intent'] = df_negatifs['tweets'].apply(get_intent)\n",
    "\n",
    "# Fusionner avec le DataFrame original\n",
    "df = df.merge(df_negatifs[['tweets', 'intent']], on='tweets', how='left')\n",
    "\n",
    "# Sauvegarder le résultat\n",
    "#df.to_csv(\"chemin/vers/fichier_sortie.csv\", index=False)\n",
    "\n",
    "print(\"Traitement terminé. Résultats enregistrés !\")\n"
   ]
  }
 ],
 "metadata": {
  "kernelspec": {
   "display_name": "Python 3",
   "language": "python",
   "name": "python3"
  },
  "language_info": {
   "codemirror_mode": {
    "name": "ipython",
    "version": 3
   },
   "file_extension": ".py",
   "mimetype": "text/x-python",
   "name": "python",
   "nbconvert_exporter": "python",
   "pygments_lexer": "ipython3",
   "version": "3.13.2"
  }
 },
 "nbformat": 4,
 "nbformat_minor": 2
}
